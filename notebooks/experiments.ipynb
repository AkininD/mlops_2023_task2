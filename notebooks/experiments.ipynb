{
 "cells": [
  {
   "cell_type": "code",
   "execution_count": null,
   "id": "8ae15a7e-8bce-41c1-ae24-3ad7b7127c8b",
   "metadata": {},
   "outputs": [],
   "source": [
    "%env CLEARML_WEB_HOST=https://app.clear.ml\n",
    "%env CLEARML_API_HOST=https://api.clear.ml\n",
    "%env CLEARML_FILES_HOST=https://files.clear.ml\n",
    "%env CLEARML_API_ACCESS_KEY=... # set the CLEARML_API_ACCESS_KEY\n",
    "%env CLEARML_API_SECRET_KEY=... # set the CLEARML_API_ACCESS_KEY"
   ]
  },
  {
   "cell_type": "code",
   "execution_count": 43,
   "id": "bd84ddba-a26d-4f21-bf42-f23cb564d44c",
   "metadata": {},
   "outputs": [],
   "source": [
    "import math\n",
    "import pickle\n",
    "import datetime\n",
    "from datetime import datetime\n",
    "\n",
    "import pandas as pd\n",
    "import numpy as np\n",
    "\n",
    "from sklearn.model_selection import GroupKFold\n",
    "from sklearn.linear_model import Ridge\n",
    "from sklearn.metrics import mean_squared_error\n",
    "from sklearn.pipeline import make_pipeline\n",
    "from sklearn.preprocessing import MinMaxScaler, StandardScaler\n",
    "from sklearn.compose import ColumnTransformer\n",
    "\n",
    "import matplotlib.pyplot as plt\n",
    "\n",
    "from clearml import Task"
   ]
  },
  {
   "cell_type": "code",
   "execution_count": 44,
   "id": "f6763178-65b3-462c-ad2b-1f372ae2b599",
   "metadata": {},
   "outputs": [],
   "source": [
    "def smape_loss(y_true, y_pred):\n",
    "    return np.abs(y_true - y_pred) / (y_true + np.abs(y_pred)) * 200\n",
    "\n",
    "\n",
    "def train_and_validate(X, y, groups, n_splits=4, esitmator=lambda: Ridge(alpha=0.5)):\n",
    "    models = []\n",
    "    scores = []\n",
    "    preprocessor = make_pipeline(MinMaxScaler(), StandardScaler())\n",
    "    kf = GroupKFold(n_splits=n_splits)\n",
    "\n",
    "    for train_idx, val_idx in kf.split(X, y, groups):\n",
    "        X_train, X_val = X.iloc[train_idx], X.iloc[val_idx]\n",
    "        y_train, y_val = y[train_idx], y[val_idx]\n",
    "\n",
    "        X_train = preprocessor.fit_transform(X_train)\n",
    "        X_val = preprocessor.transform(X_val)\n",
    "\n",
    "        model = esitmator()\n",
    "        model.fit(X_train, np.log(y_train))\n",
    "        models.append(model)\n",
    "        \n",
    "        y_pred = np.exp(model.predict(X_val))\n",
    "        score = smape_loss(y_val, y_pred).mean()\n",
    "        scores.append(score)\n",
    "\n",
    "        print(f'SMAPE Score: {score:.4f}')\n",
    "\n",
    "    return scores, models, preprocessor\n",
    "\n",
    "\n",
    "def predict_with_models(models, preprocessor, X_test, mode='average', scores=None):\n",
    "    test_predictions = np.zeros(len(X_test))\n",
    "\n",
    "    X_test_processed = preprocessor.transform(X_test)\n",
    "\n",
    "    if mode == 'average':\n",
    "        for model in models:\n",
    "            test_predictions += np.exp(model.predict(X_test_processed))\n",
    "        test_predictions = test_predictions / len(models)\n",
    "    \n",
    "    elif mode == 'best':\n",
    "        test_predictions = np.exp(models[np.argmin(scores)].predict(X_test_processed))\n",
    "\n",
    "    return test_predictions\n",
    "\n",
    "\n",
    "def prepare_data(feature_engineer_fn, train_file_path='../data/train.csv', test_file_path='../data/test.csv'):\n",
    "\n",
    "    original_train_df = pd.read_csv(train_file_path)\n",
    "    original_test_df = pd.read_csv(test_file_path)\n",
    "    \n",
    "    for df in [original_train_df, original_test_df]:\n",
    "        df['date'] = pd.to_datetime(df.date)\n",
    "    \n",
    "    train_df = feature_engineer_fn(original_train_df)\n",
    "    test_df = feature_engineer_fn(original_test_df)\n",
    "    y_train = original_train_df['num_sold'].values\n",
    "    \n",
    "    year = original_train_df.date.dt.year\n",
    "\n",
    "    return train_df, test_df, y_train, year"
   ]
  },
  {
   "cell_type": "markdown",
   "id": "2e5bfe36-eabc-41f3-8d8d-ca5f2790aae2",
   "metadata": {},
   "source": [
    "# Experiment 1"
   ]
  },
  {
   "cell_type": "code",
   "execution_count": 58,
   "id": "5cd1ab67-6706-4422-a81d-78c5cea894aa",
   "metadata": {},
   "outputs": [],
   "source": [
    "task1 = Task.init(project_name='tps-jan22', task_name='experiment_1')"
   ]
  },
  {
   "cell_type": "code",
   "execution_count": 45,
   "id": "0d58b0cc-5708-40ee-b1a6-3648117bb0fb",
   "metadata": {},
   "outputs": [],
   "source": [
    "def engineer(df):\n",
    "    new_df = pd.DataFrame()\n",
    "\n",
    "    new_df['wd'] = df.date.dt.weekday\n",
    "\n",
    "    for country in ['Finland', 'Norway', 'Sweden']:\n",
    "        new_df[country] = df.country == country\n",
    "    for store in ['KaggleMart', 'KaggleRama']:\n",
    "        new_df[store] = df.store == store\n",
    "\n",
    "    for product in ['Kaggle Mug', 'Kaggle Hat', 'Kaggle Sticker']:\n",
    "        new_df[product] = df['product'] == product\n",
    "\n",
    "    return new_df.astype(np.float32)\n"
   ]
  },
  {
   "cell_type": "code",
   "execution_count": 46,
   "id": "83ca478e-a77f-4671-b1b7-b3b0413c63f3",
   "metadata": {},
   "outputs": [
    {
     "name": "stdout",
     "output_type": "stream",
     "text": [
      "SMAPE Score: 15.2215\n",
      "SMAPE Score: 16.3875\n",
      "SMAPE Score: 12.6469\n",
      "SMAPE Score: 15.6064\n",
      "Average SMAPE: 14.9656\n"
     ]
    },
    {
     "data": {
      "text/html": [
       "<div>\n",
       "<style scoped>\n",
       "    .dataframe tbody tr th:only-of-type {\n",
       "        vertical-align: middle;\n",
       "    }\n",
       "\n",
       "    .dataframe tbody tr th {\n",
       "        vertical-align: top;\n",
       "    }\n",
       "\n",
       "    .dataframe thead th {\n",
       "        text-align: right;\n",
       "    }\n",
       "</style>\n",
       "<table border=\"1\" class=\"dataframe\">\n",
       "  <thead>\n",
       "    <tr style=\"text-align: right;\">\n",
       "      <th></th>\n",
       "      <th>row_id</th>\n",
       "      <th>num_sold</th>\n",
       "    </tr>\n",
       "  </thead>\n",
       "  <tbody>\n",
       "    <tr>\n",
       "      <th>0</th>\n",
       "      <td>26298</td>\n",
       "      <td>183.0</td>\n",
       "    </tr>\n",
       "    <tr>\n",
       "      <th>1</th>\n",
       "      <td>26299</td>\n",
       "      <td>322.0</td>\n",
       "    </tr>\n",
       "    <tr>\n",
       "      <th>2</th>\n",
       "      <td>26300</td>\n",
       "      <td>93.0</td>\n",
       "    </tr>\n",
       "    <tr>\n",
       "      <th>3</th>\n",
       "      <td>26301</td>\n",
       "      <td>319.0</td>\n",
       "    </tr>\n",
       "    <tr>\n",
       "      <th>4</th>\n",
       "      <td>26302</td>\n",
       "      <td>562.0</td>\n",
       "    </tr>\n",
       "  </tbody>\n",
       "</table>\n",
       "</div>"
      ],
      "text/plain": [
       "   row_id  num_sold\n",
       "0   26298     183.0\n",
       "1   26299     322.0\n",
       "2   26300      93.0\n",
       "3   26301     319.0\n",
       "4   26302     562.0"
      ]
     },
     "execution_count": 46,
     "metadata": {},
     "output_type": "execute_result"
    }
   ],
   "source": [
    "train_df, test_df, y_train, year = prepare_data(engineer)\n",
    "scores, models, preprocessor = train_and_validate(train_df, y_train, year)\n",
    "average_smape = np.mean(scores)\n",
    "print(f'Average SMAPE: {average_smape:.4f}')\n",
    "\n",
    "test_predictions = predict_with_models(models, preprocessor, test_df, scores=scores)\n",
    "\n",
    "submission_df = pd.DataFrame({\n",
    "    'row_id': original_test_df['row_id'],\n",
    "    'num_sold': test_predictions.round() \n",
    "})\n",
    "\n",
    "\n",
    "submission_df.head()"
   ]
  },
  {
   "cell_type": "code",
   "execution_count": 47,
   "id": "da6653a2-2a0a-477c-bfb2-5a5535636293",
   "metadata": {},
   "outputs": [],
   "source": [
    "task1.close()"
   ]
  },
  {
   "cell_type": "markdown",
   "id": "cdc85845-a98b-4755-a51f-11db248fb8b5",
   "metadata": {},
   "source": [
    "# Experiment 2"
   ]
  },
  {
   "cell_type": "code",
   "execution_count": 59,
   "id": "cb74e61c-ed07-41b0-883d-2fdd22b9f0a5",
   "metadata": {},
   "outputs": [],
   "source": [
    "task2 = Task.init(project_name='tps-jan22', task_name='experiment_2')"
   ]
  },
  {
   "cell_type": "code",
   "execution_count": 49,
   "id": "58fcc148-1c95-4b9f-8d7a-6253a5e655fc",
   "metadata": {},
   "outputs": [],
   "source": [
    "def engineer(df):\n",
    "    new_df = pd.DataFrame()\n",
    "\n",
    "    new_df['wd'] = df.date.dt.weekday\n",
    "\n",
    "    for country in ['Finland', 'Norway', 'Sweden']:\n",
    "        new_df[country] = df.country == country\n",
    "    for store in ['KaggleMart', 'KaggleRama']:\n",
    "        new_df[store] = df.store == store\n",
    "\n",
    "    for product in ['Kaggle Mug', 'Kaggle Hat', 'Kaggle Sticker']:\n",
    "        new_df[product] = df['product'] == product\n",
    "\n",
    "    dayofyear = df.date.dt.dayofyear\n",
    "    for k in range(1, 6):\n",
    "        new_df[f'sin{k}'] = np.sin(dayofyear / 365.25 * 2 * np.pi * k)\n",
    "        new_df[f'cos{k}'] = np.cos(dayofyear / 365.25 * 2 * np.pi * k)\n",
    "\n",
    "    return new_df.astype(np.float32)\n"
   ]
  },
  {
   "cell_type": "code",
   "execution_count": 50,
   "id": "a1af5d14-d71e-4edd-817f-660c5592670a",
   "metadata": {},
   "outputs": [
    {
     "name": "stdout",
     "output_type": "stream",
     "text": [
      "SMAPE Score: 13.4136\n",
      "SMAPE Score: 15.4642\n",
      "SMAPE Score: 11.8090\n",
      "SMAPE Score: 13.8232\n",
      "Average SMAPE: 13.6275\n"
     ]
    },
    {
     "data": {
      "text/html": [
       "<div>\n",
       "<style scoped>\n",
       "    .dataframe tbody tr th:only-of-type {\n",
       "        vertical-align: middle;\n",
       "    }\n",
       "\n",
       "    .dataframe tbody tr th {\n",
       "        vertical-align: top;\n",
       "    }\n",
       "\n",
       "    .dataframe thead th {\n",
       "        text-align: right;\n",
       "    }\n",
       "</style>\n",
       "<table border=\"1\" class=\"dataframe\">\n",
       "  <thead>\n",
       "    <tr style=\"text-align: right;\">\n",
       "      <th></th>\n",
       "      <th>row_id</th>\n",
       "      <th>num_sold</th>\n",
       "    </tr>\n",
       "  </thead>\n",
       "  <tbody>\n",
       "    <tr>\n",
       "      <th>0</th>\n",
       "      <td>26298</td>\n",
       "      <td>227.0</td>\n",
       "    </tr>\n",
       "    <tr>\n",
       "      <th>1</th>\n",
       "      <td>26299</td>\n",
       "      <td>400.0</td>\n",
       "    </tr>\n",
       "    <tr>\n",
       "      <th>2</th>\n",
       "      <td>26300</td>\n",
       "      <td>116.0</td>\n",
       "    </tr>\n",
       "    <tr>\n",
       "      <th>3</th>\n",
       "      <td>26301</td>\n",
       "      <td>395.0</td>\n",
       "    </tr>\n",
       "    <tr>\n",
       "      <th>4</th>\n",
       "      <td>26302</td>\n",
       "      <td>697.0</td>\n",
       "    </tr>\n",
       "  </tbody>\n",
       "</table>\n",
       "</div>"
      ],
      "text/plain": [
       "   row_id  num_sold\n",
       "0   26298     227.0\n",
       "1   26299     400.0\n",
       "2   26300     116.0\n",
       "3   26301     395.0\n",
       "4   26302     697.0"
      ]
     },
     "execution_count": 50,
     "metadata": {},
     "output_type": "execute_result"
    }
   ],
   "source": [
    "train_df, test_df, y_train, year = prepare_data(engineer)\n",
    "scores, models, preprocessor = train_and_validate(train_df, y_train, year)\n",
    "average_smape = np.mean(scores)\n",
    "print(f'Average SMAPE: {average_smape:.4f}')\n",
    "\n",
    "test_predictions = predict_with_models(models, preprocessor, test_df, scores=scores)\n",
    "\n",
    "submission_df = pd.DataFrame({\n",
    "    'row_id': original_test_df['row_id'],\n",
    "    'num_sold': test_predictions.round() \n",
    "})\n",
    "\n",
    "\n",
    "submission_df.head()"
   ]
  },
  {
   "cell_type": "code",
   "execution_count": 51,
   "id": "a8591f50-7c46-4d3a-800f-50c1de5b7d42",
   "metadata": {},
   "outputs": [],
   "source": [
    "task2.close()"
   ]
  },
  {
   "cell_type": "markdown",
   "id": "f1140bc4-61db-4eef-a5c2-5fcce3741b4e",
   "metadata": {},
   "source": [
    "# Experiment 3"
   ]
  },
  {
   "cell_type": "code",
   "execution_count": 60,
   "id": "fc8225e5-4048-42c9-ba51-b329f5f93261",
   "metadata": {},
   "outputs": [],
   "source": [
    "task3 = Task.init(project_name='tps-jan22', task_name='experiment_3')"
   ]
  },
  {
   "cell_type": "code",
   "execution_count": 53,
   "id": "fc505910-c89a-47a6-972e-e0ee3d8c3adb",
   "metadata": {},
   "outputs": [],
   "source": [
    "def engineer(df):\n",
    "    new_df = pd.DataFrame()\n",
    "\n",
    "    new_df['wd4'] = df.date.dt.weekday == 4\n",
    "    new_df['wd56'] = df.date.dt.weekday >= 5\n",
    "\n",
    "    for country in ['Finland', 'Norway', 'Sweden']:\n",
    "        new_df[country] = df.country == country\n",
    "    for store in ['KaggleMart', 'KaggleRama']:\n",
    "        new_df[store] = df.store == store\n",
    "\n",
    "    for product in ['Kaggle Mug', 'Kaggle Hat', 'Kaggle Sticker']:\n",
    "        new_df[product] = df['product'] == product\n",
    "\n",
    "    dayofyear = df.date.dt.dayofyear\n",
    "    for k in range(1, 6):\n",
    "        new_df[f'sin{k}'] = np.sin(dayofyear / 365.25 * 2 * np.pi * k)\n",
    "        new_df[f'cos{k}'] = np.cos(dayofyear / 365.25 * 2 * np.pi * k)\n",
    "\n",
    "    return new_df.astype(np.float32)\n"
   ]
  },
  {
   "cell_type": "code",
   "execution_count": 54,
   "id": "ebda6994-7c54-4f82-afd5-6c417a10b1f3",
   "metadata": {},
   "outputs": [
    {
     "name": "stdout",
     "output_type": "stream",
     "text": [
      "SMAPE Score: 12.7412\n",
      "SMAPE Score: 14.8575\n",
      "SMAPE Score: 11.1512\n",
      "SMAPE Score: 13.1720\n",
      "Average SMAPE: 12.9805\n"
     ]
    },
    {
     "data": {
      "text/html": [
       "<div>\n",
       "<style scoped>\n",
       "    .dataframe tbody tr th:only-of-type {\n",
       "        vertical-align: middle;\n",
       "    }\n",
       "\n",
       "    .dataframe tbody tr th {\n",
       "        vertical-align: top;\n",
       "    }\n",
       "\n",
       "    .dataframe thead th {\n",
       "        text-align: right;\n",
       "    }\n",
       "</style>\n",
       "<table border=\"1\" class=\"dataframe\">\n",
       "  <thead>\n",
       "    <tr style=\"text-align: right;\">\n",
       "      <th></th>\n",
       "      <th>row_id</th>\n",
       "      <th>num_sold</th>\n",
       "    </tr>\n",
       "  </thead>\n",
       "  <tbody>\n",
       "    <tr>\n",
       "      <th>0</th>\n",
       "      <td>26298</td>\n",
       "      <td>229.0</td>\n",
       "    </tr>\n",
       "    <tr>\n",
       "      <th>1</th>\n",
       "      <td>26299</td>\n",
       "      <td>405.0</td>\n",
       "    </tr>\n",
       "    <tr>\n",
       "      <th>2</th>\n",
       "      <td>26300</td>\n",
       "      <td>117.0</td>\n",
       "    </tr>\n",
       "    <tr>\n",
       "      <th>3</th>\n",
       "      <td>26301</td>\n",
       "      <td>400.0</td>\n",
       "    </tr>\n",
       "    <tr>\n",
       "      <th>4</th>\n",
       "      <td>26302</td>\n",
       "      <td>706.0</td>\n",
       "    </tr>\n",
       "  </tbody>\n",
       "</table>\n",
       "</div>"
      ],
      "text/plain": [
       "   row_id  num_sold\n",
       "0   26298     229.0\n",
       "1   26299     405.0\n",
       "2   26300     117.0\n",
       "3   26301     400.0\n",
       "4   26302     706.0"
      ]
     },
     "execution_count": 54,
     "metadata": {},
     "output_type": "execute_result"
    }
   ],
   "source": [
    "train_df, test_df, y_train, year = prepare_data(engineer)\n",
    "scores, models, preprocessor = train_and_validate(train_df, y_train, year)\n",
    "average_smape = np.mean(scores)\n",
    "print(f'Average SMAPE: {average_smape:.4f}')\n",
    "\n",
    "test_predictions = predict_with_models(models, preprocessor, test_df, scores=scores)\n",
    "\n",
    "submission_df = pd.DataFrame({\n",
    "    'row_id': original_test_df['row_id'],\n",
    "    'num_sold': test_predictions.round() \n",
    "})\n",
    "\n",
    "\n",
    "submission_df.head()"
   ]
  },
  {
   "cell_type": "code",
   "execution_count": 55,
   "id": "0eb799a3-41f1-454b-a0b9-d8c3ccfd59fb",
   "metadata": {},
   "outputs": [],
   "source": [
    "task3.close()"
   ]
  },
  {
   "cell_type": "code",
   "execution_count": 56,
   "id": "466dbf07-651e-46bd-8704-77676638c62c",
   "metadata": {},
   "outputs": [],
   "source": [
    "submission_df.to_csv('submission.csv', index=False)"
   ]
  }
 ],
 "metadata": {
  "kernelspec": {
   "display_name": "venv_3.10",
   "language": "python",
   "name": "venv_3.10"
  },
  "language_info": {
   "codemirror_mode": {
    "name": "ipython",
    "version": 3
   },
   "file_extension": ".py",
   "mimetype": "text/x-python",
   "name": "python",
   "nbconvert_exporter": "python",
   "pygments_lexer": "ipython3",
   "version": "3.10.13"
  }
 },
 "nbformat": 4,
 "nbformat_minor": 5
}
